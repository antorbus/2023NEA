{
 "cells": [
  {
   "cell_type": "code",
   "execution_count": null,
   "id": "81f1abf0",
   "metadata": {},
   "outputs": [],
   "source": [
    "import os \n",
    "os.environ['CUDA_VISIBLE_DEVICES'] = \"0\"\n",
    "#CUDA_VISIBLE_DEVICES is used to specify which GPUs should be visible to a CUDA application via index of GPU."
   ]
  },
  {
   "cell_type": "code",
   "execution_count": null,
   "id": "050f14fe",
   "metadata": {
    "scrolled": true
   },
   "outputs": [],
   "source": [
    "#Downloading data if it does not previously exsist.\n",
    "\n",
    "import git #The git library is used to make API calls and interact with git repositories.\n",
    "from os import path #Path is used to facilitate checking if a file/directory exsists.\n",
    "\n",
    "if not path.exists('go-dataset-master'): # Checks if data does not previously exsist.\n",
    "    \n",
    "    print('Cloning')\n",
    "    \n",
    "    git.Repo.clone_from('https://github.com/featurecat/go-dataset.git', '', branch='master') \n",
    "    \n",
    "    #API call which clones repository. \n"
   ]
  },
  {
   "cell_type": "code",
   "execution_count": null,
   "id": "c644af70",
   "metadata": {},
   "outputs": [],
   "source": [
    "from utils import get_path_from_file\n",
    "\n",
    "import glob #Module used to find all pathnames that match specified pattern.\n",
    "from pyunpack import Archive #Library used to extract 7z files.\n",
    "\n",
    "\n",
    "if not path.exists('go-dataset-master/10k/10k.7z_extracted'): #Checks if data has previously been extracted.\n",
    "    \n",
    "    paths_to_7z = glob.glob('go-dataset-master/*/*', recursive=True) #Finds all 7z files.\n",
    "    \n",
    "    for path_7z in paths_to_7z: \n",
    "        \n",
    "        path_from = get_path_from_file(path_7z)\n",
    "        Archive(path_7z).extractall(path_from) \n",
    "        \n",
    "        #Extracts all 7z files in their corresponding parent directory.\n"
   ]
  },
  {
   "cell_type": "code",
   "execution_count": null,
   "id": "483b9ec9",
   "metadata": {},
   "outputs": [],
   "source": [
    "\n",
    "import torch\n",
    "import numpy as np #NumPy is a library that supports multidimensional arrays and is commonly used alongside PyTorch.\n"
   ]
  },
  {
   "cell_type": "code",
   "execution_count": null,
   "id": "7fda9344",
   "metadata": {},
   "outputs": [],
   "source": [
    "paths_10k = glob.glob('go-dataset-master/10k/*/*/*') #Creates a list with paths to all SGF files in directory.\n",
    "paths_5k = glob.glob('go-dataset-master/5k/*/*/*')\n",
    "paths_1d = glob.glob('go-dataset-master/1d/*/*/*')"
   ]
  },
  {
   "cell_type": "code",
   "execution_count": null,
   "id": "a78c3f4b",
   "metadata": {
    "scrolled": false
   },
   "outputs": [],
   "source": [
    "#noexport\n",
    "\n",
    "#Using the flag above will prevent this cell from being run in the .py file after makefile has been run.\n",
    "import seaborn as sns #Seaborn is a data visualization library.\n",
    "from tqdm import tqdm\n",
    "from preprocess import open_game\n",
    "\n",
    "length_5k = [] \n",
    "\n",
    "for path in tqdm(paths_5k[:1000]):\n",
    "    \n",
    "    game = open_game(path)\n",
    "    \n",
    "    if game:\n",
    "        length_5k.append(len(game.get_main_sequence()))\n",
    "\n",
    "        \n",
    "sns.histplot(length_5k) #Histogram plotting game lengths against their frequency in 5k games. \n"
   ]
  },
  {
   "cell_type": "code",
   "execution_count": null,
   "id": "4441cf16",
   "metadata": {},
   "outputs": [],
   "source": [
    "samples = np.random.normal(30, 170, 1000000) #Normal distribution used to generate game lengths.\n",
    "\n",
    "truncated_samples = []\n",
    "probability_dict ={k:0 for k in range(0,330)} \n",
    "\n",
    "for sample in samples:\n",
    "    \n",
    "    if sample > 0 and sample < 330: #Will prevent showing the network excessively long (and uncommon) games states.\n",
    "        \n",
    "        sample = np.floor(sample) \n",
    "        truncated_samples.append(sample)\n",
    "        probability_dict[sample]+=1 \n",
    "        \n",
    "        \n",
    "samples_len = len(truncated_samples)\n",
    "probability_dict = {k: v / samples_len for k, v in probability_dict.items()} # Converting to probabilities.\n"
   ]
  },
  {
   "cell_type": "code",
   "execution_count": null,
   "id": "3698823d",
   "metadata": {
    "scrolled": false
   },
   "outputs": [],
   "source": [
    "#noexport\n",
    "sns.histplot(truncated_samples, bins=330, ) #Plots new game length distribution."
   ]
  },
  {
   "cell_type": "code",
   "execution_count": null,
   "id": "07da6fbd",
   "metadata": {},
   "outputs": [],
   "source": [
    "n_gpus = torch.cuda.device_count() \n",
    "device = torch.device(\"cuda:0\" if torch.cuda.is_available() else \"cpu\") #Checks if GPU is available. \n",
    "\n",
    "if n_gpus==1: \n",
    "    device = torch.device(0) #If one GPU is available sets the variable decive to this so that PyTorch tensors and \n",
    "                             #models can be easily transferred to GPU memory.\n",
    "\n",
    "print(device) #Displays the device being used."
   ]
  },
  {
   "cell_type": "code",
   "execution_count": null,
   "id": "2969bf08",
   "metadata": {},
   "outputs": [],
   "source": [
    "\n",
    "from model import GoModel\n",
    "import torch.optim as optim\n",
    "from train import train\n",
    "\n",
    "model = GoModel() #Instantiating object \n",
    "\n",
    "epochs = 15\n",
    "paths = paths_1d \n",
    "\n",
    "#Stochastic optimization method similar to gradient descent but computes individual adaptive learning for weights.\n",
    "optimizer = optim.AdamW(model.parameters(), lr=0.003)\n",
    "\n",
    "#Increases the learning rate for 30% of training and decreases it for the rest, has been shown to improve training.\n",
    "scheduler = optim.lr_scheduler.OneCycleLR(optimizer, 0.003, epochs= epochs, steps_per_epoch = len(paths)//400)\n"
   ]
  },
  {
   "cell_type": "code",
   "execution_count": null,
   "id": "fb464b9e",
   "metadata": {},
   "outputs": [],
   "source": [
    "train('1d_v1', model, epochs, optimizer, scheduler, paths, device,  None)"
   ]
  },
  {
   "cell_type": "code",
   "execution_count": null,
   "id": "e9075a04",
   "metadata": {},
   "outputs": [],
   "source": []
  }
 ],
 "metadata": {
  "kernelspec": {
   "display_name": "Python 3 (ipykernel)",
   "language": "python",
   "name": "python3"
  },
  "language_info": {
   "codemirror_mode": {
    "name": "ipython",
    "version": 3
   },
   "file_extension": ".py",
   "mimetype": "text/x-python",
   "name": "python",
   "nbconvert_exporter": "python",
   "pygments_lexer": "ipython3",
   "version": "3.10.4"
  }
 },
 "nbformat": 4,
 "nbformat_minor": 5
}
